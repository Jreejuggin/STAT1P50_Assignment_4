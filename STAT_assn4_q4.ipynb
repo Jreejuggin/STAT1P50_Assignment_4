{
 "cells": [
  {
   "cell_type": "code",
   "execution_count": 29,
   "id": "70a43548",
   "metadata": {
    "scrolled": true
   },
   "outputs": [
    {
     "name": "stdout",
     "output_type": "stream",
     "text": [
      "Epoch 1/10\n",
      "40/40 [==============================] - 0s 2ms/step - loss: 7.8561 - accuracy: 0.1488\n",
      "Epoch 2/10\n",
      "40/40 [==============================] - 0s 2ms/step - loss: 4.0189 - accuracy: 0.1726\n",
      "Epoch 3/10\n",
      "40/40 [==============================] - 0s 2ms/step - loss: 2.7856 - accuracy: 0.3095\n",
      "Epoch 4/10\n",
      "40/40 [==============================] - 0s 3ms/step - loss: 2.1087 - accuracy: 0.4145\n",
      "Epoch 5/10\n",
      "40/40 [==============================] - 0s 3ms/step - loss: 1.6977 - accuracy: 0.4909\n",
      "Epoch 6/10\n",
      "40/40 [==============================] - 0s 4ms/step - loss: 1.4372 - accuracy: 0.5418\n",
      "Epoch 7/10\n",
      "40/40 [==============================] - 0s 3ms/step - loss: 1.2453 - accuracy: 0.6062\n",
      "Epoch 8/10\n",
      "40/40 [==============================] - 0s 5ms/step - loss: 1.1040 - accuracy: 0.6460\n",
      "Epoch 9/10\n",
      "40/40 [==============================] - 0s 2ms/step - loss: 0.9799 - accuracy: 0.6834\n",
      "Epoch 10/10\n",
      "40/40 [==============================] - 0s 2ms/step - loss: 0.8833 - accuracy: 0.7160\n",
      "17/17 [==============================] - 0s 2ms/step - loss: 0.8454 - accuracy: 0.7481\n",
      "1) accuracy of testing set(second item in list): [0.8453823328018188, 0.7481481432914734]\n"
     ]
    }
   ],
   "source": [
    "from tensorflow.keras.datasets import mnist\n",
    "import tensorflow as tf\n",
    "from tensorflow.keras.models import Sequential\n",
    "from tensorflow.keras.layers import Dense, InputLayer\n",
    "from tensorflow.keras.utils import to_categorical\n",
    "\n",
    "\n",
    "# load dataset\n",
    "(X_train, y_train), (X_test, y_test) = mnist.load_data()\n",
    "\n",
    "number_of_training_instances = X_train.shape[0]\n",
    "number_of_testing_instances = X_test.shape[0]\n",
    "\n",
    "# reshape dataset\n",
    "X_train = X_train.reshape((number_of_training_instances, 28*28))\n",
    "X_test = X_test.reshape((number_of_testing_instances, 28*28))\n",
    "\n",
    "#ensures that model returns same results\n",
    "tf.random.set_seed(1)\n",
    "model = Sequential()\n",
    "\n",
    "input_layer = InputLayer(input_shape=(64,))\n",
    "model.add(input_layer)\n",
    "hidden_layer = Dense(5)\n",
    "model.add(hidden_layer)\n",
    "output_layer = Dense(10, activation='softmax')\n",
    "model.add(output_layer)\n",
    "\n",
    "\n",
    "\n",
    "X_train, X_test, y_train, y_test = train_test_split(X, y, test_size = 0.2)\n",
    "\n",
    "\n",
    "model.compile(loss = 'categorical_crossentropy', metrics = ['accuracy'])\n",
    "model.fit(X_train, y_train, epochs = 10)\n",
    "\n",
    "performance = model.evaluate(X_test, y_test)\n",
    "\n",
    "print(\"1) accuracy of testing set(second item in list):\",performance)\n",
    "\n",
    "\n",
    "model.save('digits_model.h5')\n"
   ]
  },
  {
   "cell_type": "code",
   "execution_count": null,
   "id": "24f61a0d",
   "metadata": {},
   "outputs": [],
   "source": []
  },
  {
   "cell_type": "code",
   "execution_count": null,
   "id": "f88f6f19",
   "metadata": {},
   "outputs": [],
   "source": []
  }
 ],
 "metadata": {
  "kernelspec": {
   "display_name": "Python 3 (ipykernel)",
   "language": "python",
   "name": "python3"
  },
  "language_info": {
   "codemirror_mode": {
    "name": "ipython",
    "version": 3
   },
   "file_extension": ".py",
   "mimetype": "text/x-python",
   "name": "python",
   "nbconvert_exporter": "python",
   "pygments_lexer": "ipython3",
   "version": "3.11.4"
  }
 },
 "nbformat": 4,
 "nbformat_minor": 5
}
